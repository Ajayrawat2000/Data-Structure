{
 "cells": [
  {
   "cell_type": "code",
   "execution_count": 5,
   "metadata": {},
   "outputs": [
    {
     "name": "stdout",
     "output_type": "stream",
     "text": [
      "1 2 3 4\n",
      "1\n",
      "1->2->3->4->None\n"
     ]
    }
   ],
   "source": [
    "class Node:\n",
    "    def __init__(self,data):\n",
    "        self.data = data\n",
    "        self.next = None\n",
    "def takeInput():\n",
    "    inputlist=[int(i) for i in input().split()]\n",
    "    head = None\n",
    "    \n",
    "    for currdata in inputlist:\n",
    "        if currdata == -1:\n",
    "            break\n",
    "        \n",
    "        newnode = Node(currdata)\n",
    "        \n",
    "        if head is None:\n",
    "            head = newnode\n",
    "            tail= newnode\n",
    "        else:\n",
    "            \n",
    "            tail.next = newnode\n",
    "            tail = newnode\n",
    "    return head\n",
    "\n",
    "def printLL(LL):\n",
    "    curr = LL\n",
    "    while curr is not None:\n",
    "        print(str(curr.data) + \"->\",end = \"\")\n",
    "        curr = curr.next\n",
    "    print(\"None\")\n",
    "    \n",
    "        \n",
    "        \n",
    "\n",
    "head = takeInput()    \n",
    "print(head.data)\n",
    "printLL(head)"
   ]
  },
  {
   "cell_type": "code",
   "execution_count": 14,
   "metadata": {},
   "outputs": [
    {
     "name": "stdout",
     "output_type": "stream",
     "text": [
      "1\n",
      "23\n",
      "45\n"
     ]
    }
   ],
   "source": []
  },
  {
   "cell_type": "code",
   "execution_count": null,
   "metadata": {},
   "outputs": [],
   "source": [
    "1 2 3 4"
   ]
  }
 ],
 "metadata": {
  "kernelspec": {
   "display_name": "Python 3",
   "language": "python",
   "name": "python3"
  },
  "language_info": {
   "codemirror_mode": {
    "name": "ipython",
    "version": 3
   },
   "file_extension": ".py",
   "mimetype": "text/x-python",
   "name": "python",
   "nbconvert_exporter": "python",
   "pygments_lexer": "ipython3",
   "version": "3.7.6"
  }
 },
 "nbformat": 4,
 "nbformat_minor": 4
}
